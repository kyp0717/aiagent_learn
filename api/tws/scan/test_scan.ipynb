{
 "cells": [
  {
   "cell_type": "code",
   "execution_count": null,
   "metadata": {},
   "outputs": [],
   "source": [
    "from ibapi.client import EClient\n",
    "from ibapi.wrapper import EWrapper\n",
    "\n",
    "\n",
    "class ScanApp(EClient, EWrapper):\n",
    "    def __init__(self):\n",
    "        EClient.__init__(self, self)\n",
    "\n",
    "    def nextValidId(self, orderId):\n",
    "        self.reqScannerParameters()\n",
    "\n",
    "    def scannerParameters(self, xml):\n",
    "        dir = \"./scanner_parameters.xml\"\n",
    "        open(dir, \"w\").write(xml)\n",
    "\n",
    "\n",
    "print(\"Writing parameters to xml file ...\")\n",
    "app = ScanApp()\n",
    "app.connect(\"127.0.0.1\", 7000, 1001)\n",
    "app.run()"
   ]
  }
 ],
 "metadata": {
  "kernelspec": {
   "display_name": "aiagent",
   "language": "python",
   "name": "python3"
  },
  "language_info": {
   "name": "python",
   "version": "3.13.2"
  }
 },
 "nbformat": 4,
 "nbformat_minor": 2
}
