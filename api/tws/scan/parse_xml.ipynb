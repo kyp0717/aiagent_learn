{
 "cells": [
  {
   "cell_type": "code",
   "execution_count": 6,
   "metadata": {},
   "outputs": [
    {
     "name": "stdout",
     "output_type": "stream",
     "text": [
      "Root element: ScanParameterResponse\n",
      "  Child tag: InstrumentList, Attributes: {'varName': 'instrumentList'}\n",
      "  Text: \n",
      "  Child tag: InstrumentList, Attributes: {'varName': 'fullInstrumentList'}\n",
      "  Text: \n",
      "  Child tag: LocationTree, Attributes: {'varName': 'locationTree'}\n",
      "  Text: \n",
      "  Child tag: ScanTypeList, Attributes: {'varName': 'scanTypeList'}\n",
      "  Text: \n",
      "  Child tag: SettingList, Attributes: {'varName': 'settingList'}\n",
      "  Text: \n",
      "  Child tag: FilterList, Attributes: {'varName': 'filterList'}\n",
      "  Text: \n",
      "  Child tag: ScannerLayoutList, Attributes: {'varName': 'scannerLayoutList'}\n",
      "  Text: \n",
      "  Child tag: InstrumentGroupList, Attributes: {'varName': 'instrumentGroupList'}\n",
      "  Text: \n",
      "  Child tag: SimilarProductsDefaults, Attributes: {'varName': 'similarProductsDefaults'}\n",
      "  Text: \n",
      "  Child tag: MainScreenDefaultTickers, Attributes: {'varName': 'mainScreenDefaultTickers'}\n",
      "  Text: \n",
      "  Child tag: ColumnSets, Attributes: {'varName': 'columnSets'}\n",
      "  Text: \n",
      "  Child tag: SidecarScannerDefaults, Attributes: {'varName': 'sidecarScannerDefaults'}\n",
      "  Text: \n",
      "  Child tag: AdvancedScannerDefaults, Attributes: {'varName': 'advancedScannerDefaults'}\n",
      "  Text: \n",
      "  Child tag: FilterList, Attributes: {'varName': 'uiFilters'}\n",
      "  Text: \n"
     ]
    }
   ],
   "source": [
    "import xml.etree.ElementTree as ET\n",
    "\n",
    "fp = '/home/kip/work/aiagent_learn/api/tws/scanner_parameters.xml'\n",
    "tree = ET.parse(fp)\n",
    "root = tree.getroot()\n",
    "\n",
    "# Example: Print the tag of the root element\n",
    "print(f\"Root element: {root.tag}\")\n",
    "\n",
    "# Example: Iterate through child elements\n",
    "for child in root:\n",
    "    print(f\"  Child tag: {child.tag}, Attributes: {child.attrib}\")\n",
    "    # Accessing text within an element\n",
    "    if child.text:\n",
    "        print(f\"  Text: {child.text.strip()}\")\n",
    "\n",
    "# Example: Find specific elements by tag name\n",
    "for element in root.findall('element_tag'):\n",
    "    print(f\"  Found element: {element.tag}, Text: {element.text}\")\n",
    "\n",
    "# Example: Accessing attributes of an element\n",
    "for element in root.findall('another_element'):\n",
    "    attribute_value = element.get('attribute_name')\n",
    "    if attribute_value:\n",
    "        print(f\"  Element {element.tag} has attribute_name: {attribute_value}\")\n",
    "    \n",
    "\n",
    "\n"
   ]
  }
 ],
 "metadata": {
  "kernelspec": {
   "display_name": "aiagent",
   "language": "python",
   "name": "python3"
  },
  "language_info": {
   "codemirror_mode": {
    "name": "ipython",
    "version": 3
   },
   "file_extension": ".py",
   "mimetype": "text/x-python",
   "name": "python",
   "nbconvert_exporter": "python",
   "pygments_lexer": "ipython3",
   "version": "3.13.2"
  }
 },
 "nbformat": 4,
 "nbformat_minor": 2
}
