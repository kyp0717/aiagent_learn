{
 "cells": [
  {
   "cell_type": "markdown",
   "metadata": {},
   "source": [
    "* difference between image and instance (or container)"
   ]
  },
  {
   "cell_type": "markdown",
   "metadata": {},
   "source": [
    "* docker pull\n",
    "* docker exec - use and existing container that is already running\n",
    "* docker run - create and start a new container\n",
    "* docker start - start an existing container that is stopped"
   ]
  },
  {
   "cell_type": "code",
   "execution_count": null,
   "metadata": {},
   "outputs": [
    {
     "name": "stderr",
     "output_type": "stream",
     "text": [
      "UsageError: Line magic function `%docker` not found.\n"
     ]
    }
   ],
   "source": []
  }
 ],
 "metadata": {
  "kernelspec": {
   "display_name": "aiagent",
   "language": "python",
   "name": "python3"
  },
  "language_info": {
   "codemirror_mode": {
    "name": "ipython",
    "version": 3
   },
   "file_extension": ".py",
   "mimetype": "text/x-python",
   "name": "python",
   "nbconvert_exporter": "python",
   "pygments_lexer": "ipython3",
   "version": "3.13.2"
  }
 },
 "nbformat": 4,
 "nbformat_minor": 2
}
