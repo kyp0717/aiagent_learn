{
 "cells": [
  {
   "cell_type": "markdown",
   "metadata": {},
   "source": [
    "## Strategy:\n",
    "- Check the sp500 to determine if market is stable.\n",
    "- If stable, enter long trade\n",
    "- If market rally and there is a 5% gain, close the position\n",
    "- Create 3% stop loss\n"
   ]
  },
  {
   "cell_type": "code",
   "execution_count": null,
   "metadata": {},
   "outputs": [],
   "source": [
    "## Get latest minutebar from alpaca using get_latest_bar function\n",
    "import minutebar as bb\n",
    "\n",
    "\n"
   ]
  },
  {
   "cell_type": "code",
   "execution_count": null,
   "metadata": {},
   "outputs": [],
   "source": [
    "## get latest bar and load to table\n",
    "bb.paca_get_latest_bar(feed=\"iex\", symbol=\"AAPL\")\n",
    "\n",
    "## get latest bar and load to table\n",
    "bb.paca_get_latest_bar(feed=\"iex\", symbol=\"SPY\")"
   ]
  },
  {
   "cell_type": "code",
   "execution_count": null,
   "metadata": {},
   "outputs": [],
   "source": [
    "## Retrieve apple bar data from supabase database\n",
    "## Get SPY bar data from supbase database\n",
    "## Use these data to build metrics for the trade\n",
    "\n",
    "# Metric #1: Measure the velocity of Apple volume is increasing over the last 10 bar\n",
    "# Metric #2: Measure if prices are increasing\n",
    "# Metric #2: Measure if SPY is stable or rallying"
   ]
  },
  {
   "cell_type": "code",
   "execution_count": null,
   "metadata": {},
   "outputs": [],
   "source": [
    "\n",
    "import model as mm\n",
    "\n",
    "a = mm.linear('SPY', 'current')\n"
   ]
  },
  {
   "cell_type": "code",
   "execution_count": null,
   "metadata": {},
   "outputs": [],
   "source": [
    "a"
   ]
  },
  {
   "cell_type": "code",
   "execution_count": null,
   "metadata": {},
   "outputs": [],
   "source": [
    "## Enter Trade\n",
    "## If \n",
    "# 1. apple volume velocity is 20% or above (i.e 1.2)\n",
    "# 2. SPY is stable or rallying\n",
    "# 3. apple price is stable or increasing"
   ]
  },
  {
   "cell_type": "code",
   "execution_count": null,
   "metadata": {},
   "outputs": [],
   "source": [
    "from alpaca.trading.client import TradingClient\n",
    "from dotenv import load_dotenv\n",
    "import os\n",
    "\n",
    "# Load environment variables from .env file\n",
    "load_dotenv()\n",
    "key= os.getenv(\"APCA_API_KEY_ID\")\n",
    "secret= os.getenv(\"APCA_API_SECRET_KEY\")\n",
    "print(key)\n",
    "print(secret)\n",
    "# setup clients\n",
    "trade_client = TradingClient(api_key=key, secret_key=secret, paper=True)\n",
    "\n",
    "trade_client.get_all_positions()"
   ]
  },
  {
   "cell_type": "code",
   "execution_count": 1,
   "metadata": {},
   "outputs": [
    {
     "name": "stderr",
     "output_type": "stream",
     "text": [
      "2025-01-22 12:30:50,083 - INFO - Algo: algo begins ...\n",
      "2025-01-22 12:30:50,330 - INFO - HTTP Request: HEAD https://pfyfckgzsbcdudmhqlgk.supabase.co/rest/v1/bar_realtime?select=%2A \"HTTP/2 200 OK\"\n",
      "2025-01-22 12:30:50,333 - INFO - Algo: {\"code\":40410000,\"message\":\"position does not exist\"}\n",
      "2025-01-22 12:30:50,333 - INFO - Algo: Waiting for 15 seconds\n",
      "2025-01-22 12:30:50,334 - INFO - Algo: number of bars - data=[] count=47\n",
      "2025-01-22 12:31:00,334 - INFO - Algo: begin prediction ...\n",
      "2025-01-22 12:31:00,335 - INFO - Model: fitting ...\n",
      "2025-01-22 12:31:00,336 - INFO - Model: fetching bar data ...\n",
      "2025-01-22 12:31:00,344 - INFO - PACA: fetching bar data for UNH ...\n",
      "2025-01-22 12:31:00,436 - INFO - Supabase: load bar for UNH ...\n",
      "2025-01-22 12:31:00,562 - INFO - HTTP Request: GET https://pfyfckgzsbcdudmhqlgk.supabase.co/rest/v1/bar_realtime?select=%2A&symbol=eq.UNH&order=timestamp.desc&limit=1 \"HTTP/2 200 OK\"\n",
      "2025-01-22 12:31:00,624 - INFO - HTTP Request: POST https://pfyfckgzsbcdudmhqlgk.supabase.co/rest/v1/bar_realtime \"HTTP/2 201 Created\"\n",
      "2025-01-22 12:31:00,634 - INFO - PACA: fetching bar data for SPY ...\n",
      "2025-01-22 12:31:00,714 - INFO - Supabase: load bar for SPY ...\n",
      "2025-01-22 12:31:00,834 - INFO - HTTP Request: GET https://pfyfckgzsbcdudmhqlgk.supabase.co/rest/v1/bar_realtime?select=%2A&symbol=eq.SPY&order=timestamp.desc&limit=1 \"HTTP/2 200 OK\"\n",
      "2025-01-22 12:31:00,930 - INFO - HTTP Request: POST https://pfyfckgzsbcdudmhqlgk.supabase.co/rest/v1/bar_realtime \"HTTP/2 201 Created\"\n",
      "2025-01-22 12:31:01,084 - INFO - HTTP Request: GET https://pfyfckgzsbcdudmhqlgk.supabase.co/rest/v1/bar_realtime?select=%2A&symbol=eq.UNH&order=timestamp.desc&limit=10 \"HTTP/2 200 OK\"\n",
      "2025-01-22 12:31:01,086 - INFO - Model: fitting ...\n",
      "2025-01-22 12:31:01,141 - INFO - HTTP Request: POST https://pfyfckgzsbcdudmhqlgk.supabase.co/rest/v1/simple_model \"HTTP/2 201 Created\"\n",
      "2025-01-22 12:31:01,143 - INFO - Model: fetching bar data ...\n",
      "2025-01-22 12:31:01,152 - INFO - PACA: fetching bar data for UNH ...\n",
      "2025-01-22 12:31:01,226 - INFO - Supabase: load bar for UNH ...\n",
      "2025-01-22 12:31:01,365 - INFO - HTTP Request: GET https://pfyfckgzsbcdudmhqlgk.supabase.co/rest/v1/bar_realtime?select=%2A&symbol=eq.UNH&order=timestamp.desc&limit=1 \"HTTP/2 200 OK\"\n",
      "2025-01-22 12:31:01,436 - INFO - HTTP Request: POST https://pfyfckgzsbcdudmhqlgk.supabase.co/rest/v1/bar_realtime \"HTTP/2 201 Created\"\n",
      "2025-01-22 12:31:01,446 - INFO - PACA: fetching bar data for SPY ...\n",
      "2025-01-22 12:31:01,530 - INFO - Supabase: load bar for SPY ...\n",
      "2025-01-22 12:31:01,662 - INFO - HTTP Request: GET https://pfyfckgzsbcdudmhqlgk.supabase.co/rest/v1/bar_realtime?select=%2A&symbol=eq.SPY&order=timestamp.desc&limit=1 \"HTTP/2 200 OK\"\n",
      "2025-01-22 12:31:01,725 - INFO - HTTP Request: POST https://pfyfckgzsbcdudmhqlgk.supabase.co/rest/v1/bar_realtime \"HTTP/2 201 Created\"\n",
      "2025-01-22 12:31:01,844 - INFO - HTTP Request: GET https://pfyfckgzsbcdudmhqlgk.supabase.co/rest/v1/bar_realtime?select=%2A&symbol=eq.UNH&order=timestamp.desc&limit=10 \"HTTP/2 200 OK\"\n",
      "2025-01-22 12:31:01,846 - INFO - Model: fitting ...\n",
      "2025-01-22 12:31:01,971 - INFO - HTTP Request: POST https://pfyfckgzsbcdudmhqlgk.supabase.co/rest/v1/simple_model \"HTTP/2 201 Created\"\n",
      "2025-01-22 12:31:01,973 - INFO - Model: fetching bar data ...\n",
      "2025-01-22 12:31:01,980 - INFO - PACA: fetching bar data for SPY ...\n",
      "2025-01-22 12:31:02,062 - INFO - Supabase: load bar for SPY ...\n",
      "2025-01-22 12:31:02,184 - INFO - HTTP Request: GET https://pfyfckgzsbcdudmhqlgk.supabase.co/rest/v1/bar_realtime?select=%2A&symbol=eq.SPY&order=timestamp.desc&limit=1 \"HTTP/2 200 OK\"\n",
      "2025-01-22 12:31:02,242 - INFO - HTTP Request: POST https://pfyfckgzsbcdudmhqlgk.supabase.co/rest/v1/bar_realtime \"HTTP/2 201 Created\"\n",
      "2025-01-22 12:31:02,251 - INFO - PACA: fetching bar data for SPY ...\n",
      "2025-01-22 12:31:02,323 - INFO - Supabase: load bar for SPY ...\n",
      "2025-01-22 12:31:02,441 - INFO - HTTP Request: GET https://pfyfckgzsbcdudmhqlgk.supabase.co/rest/v1/bar_realtime?select=%2A&symbol=eq.SPY&order=timestamp.desc&limit=1 \"HTTP/2 200 OK\"\n",
      "2025-01-22 12:31:02,528 - INFO - HTTP Request: POST https://pfyfckgzsbcdudmhqlgk.supabase.co/rest/v1/bar_realtime \"HTTP/2 201 Created\"\n",
      "2025-01-22 12:31:02,649 - INFO - HTTP Request: GET https://pfyfckgzsbcdudmhqlgk.supabase.co/rest/v1/bar_realtime?select=%2A&symbol=eq.SPY&order=timestamp.desc&limit=10 \"HTTP/2 200 OK\"\n",
      "2025-01-22 12:31:02,650 - INFO - Model: fitting ...\n",
      "2025-01-22 12:31:02,697 - INFO - HTTP Request: POST https://pfyfckgzsbcdudmhqlgk.supabase.co/rest/v1/simple_model \"HTTP/2 201 Created\"\n",
      "2025-01-22 12:31:02,707 - INFO - Algo: load slope ...\n",
      "2025-01-22 12:31:02,840 - INFO - HTTP Request: GET https://pfyfckgzsbcdudmhqlgk.supabase.co/rest/v1/simple_model?select=slope&symbol=eq.UNH&feature=eq.current&order=timestamp.desc&limit=1 \"HTTP/2 200 OK\"\n",
      "2025-01-22 12:31:02,896 - INFO - HTTP Request: GET https://pfyfckgzsbcdudmhqlgk.supabase.co/rest/v1/simple_model?select=slope&symbol=eq.UNH&feature=eq.volume&order=timestamp.desc&limit=1 \"HTTP/2 200 OK\"\n",
      "2025-01-22 12:31:02,970 - INFO - HTTP Request: GET https://pfyfckgzsbcdudmhqlgk.supabase.co/rest/v1/simple_model?select=slope&symbol=eq.SPY&feature=eq.current&order=timestamp.desc&limit=1 \"HTTP/2 200 OK\"\n",
      "2025-01-22 12:31:02,971 - INFO - Model: trade signal genrated ...\n"
     ]
    },
    {
     "ename": "TypeError",
     "evalue": "TradingClient.submit_order() takes 2 positional arguments but 6 were given",
     "output_type": "error",
     "traceback": [
      "\u001b[0;31m---------------------------------------------------------------------------\u001b[0m",
      "\u001b[0;31mTypeError\u001b[0m                                 Traceback (most recent call last)",
      "Cell \u001b[0;32mIn[1], line 2\u001b[0m\n\u001b[1;32m      1\u001b[0m \u001b[38;5;28;01mimport\u001b[39;00m\u001b[38;5;250m \u001b[39m\u001b[38;5;21;01malgo\u001b[39;00m\u001b[38;5;250m \u001b[39m\u001b[38;5;28;01mas\u001b[39;00m\u001b[38;5;250m \u001b[39m\u001b[38;5;21;01maa\u001b[39;00m\n\u001b[0;32m----> 2\u001b[0m \u001b[43maa\u001b[49m\u001b[38;5;241;43m.\u001b[39;49m\u001b[43mrun_simple_model\u001b[49m\u001b[43m(\u001b[49m\u001b[38;5;124;43m'\u001b[39;49m\u001b[38;5;124;43mUNH\u001b[39;49m\u001b[38;5;124;43m'\u001b[39;49m\u001b[43m)\u001b[49m\n",
      "File \u001b[0;32m~/work/aiagent_learn/strategy/simple/algo.py:72\u001b[0m, in \u001b[0;36mrun_simple_model\u001b[0;34m(symbol)\u001b[0m\n\u001b[1;32m     70\u001b[0m             \u001b[38;5;28;01mpass\u001b[39;00m\n\u001b[1;32m     71\u001b[0m     \u001b[38;5;28;01melif\u001b[39;00m signal \u001b[38;5;241m==\u001b[39m mod\u001b[38;5;241m.\u001b[39mSignalTrade\u001b[38;5;241m.\u001b[39mSell:\n\u001b[0;32m---> 72\u001b[0m          \u001b[43mtrade_client\u001b[49m\u001b[38;5;241;43m.\u001b[39;49m\u001b[43msubmit_order\u001b[49m\u001b[43m(\u001b[49m\u001b[43msymbol\u001b[49m\u001b[43m,\u001b[49m\u001b[43m \u001b[49m\u001b[38;5;241;43m1\u001b[39;49m\u001b[43m,\u001b[49m\u001b[43m \u001b[49m\u001b[38;5;124;43m'\u001b[39;49m\u001b[38;5;124;43msell\u001b[39;49m\u001b[38;5;124;43m'\u001b[39;49m\u001b[43m,\u001b[49m\u001b[43m \u001b[49m\u001b[38;5;124;43m'\u001b[39;49m\u001b[38;5;124;43mmarket\u001b[39;49m\u001b[38;5;124;43m'\u001b[39;49m\u001b[43m,\u001b[49m\u001b[43m \u001b[49m\u001b[38;5;124;43m'\u001b[39;49m\u001b[38;5;124;43mgtc\u001b[39;49m\u001b[38;5;124;43m'\u001b[39;49m\u001b[43m)\u001b[49m\n\u001b[1;32m     73\u001b[0m          \u001b[38;5;28;01mbreak\u001b[39;00m\n\u001b[1;32m     75\u001b[0m \u001b[38;5;28mprint\u001b[39m(\u001b[38;5;124m\"\u001b[39m\u001b[38;5;124mAlgo: Done\u001b[39m\u001b[38;5;124m\"\u001b[39m)\n",
      "\u001b[0;31mTypeError\u001b[0m: TradingClient.submit_order() takes 2 positional arguments but 6 were given"
     ]
    }
   ],
   "source": [
    "import algo as aa\n",
    "aa.run_simple_model('UNH')"
   ]
  },
  {
   "cell_type": "code",
   "execution_count": 3,
   "metadata": {},
   "outputs": [],
   "source": [
    "import requests\n",
    "import os\n",
    "from supabase import create_client, Client\n",
    "from dotenv import load_dotenv\n",
    "from time import sleep"
   ]
  },
  {
   "cell_type": "code",
   "execution_count": null,
   "metadata": {},
   "outputs": [],
   "source": [
    "supabase_key = os.getenv(\"SUPABASE_KEY\")\n",
    "supabase_url = os.getenv(\"SUPABASE_URL\")\n",
    "supabase: Client = create_client(supabase_url, supabase_key)\n",
    "\n",
    "bars = supabase.table(\"bar_realtime\") \\\n",
    "                .select(\"*\") \\\n",
    "                .filter('symbol','eq','UNH') \\\n",
    "                .order('timestamp', desc=True) \\\n",
    "                .limit(10) \\\n",
    "                .execute()"
   ]
  },
  {
   "cell_type": "code",
   "execution_count": null,
   "metadata": {},
   "outputs": [],
   "source": [
    "bars['data']"
   ]
  },
  {
   "cell_type": "code",
   "execution_count": null,
   "metadata": {},
   "outputs": [],
   "source": [
    "type(bars.data)"
   ]
  },
  {
   "cell_type": "code",
   "execution_count": null,
   "metadata": {},
   "outputs": [],
   "source": [
    "type(bars)"
   ]
  },
  {
   "cell_type": "code",
   "execution_count": null,
   "metadata": {},
   "outputs": [],
   "source": [
    "current_price = np.array([bar['current'] for bar in bars.data])"
   ]
  },
  {
   "cell_type": "code",
   "execution_count": null,
   "metadata": {},
   "outputs": [],
   "source": [
    "for b in bars.data:\n",
    "    print(b['current'])"
   ]
  }
 ],
 "metadata": {
  "kernelspec": {
   "display_name": "aiagent",
   "language": "python",
   "name": "python3"
  },
  "language_info": {
   "codemirror_mode": {
    "name": "ipython",
    "version": 3
   },
   "file_extension": ".py",
   "mimetype": "text/x-python",
   "name": "python",
   "nbconvert_exporter": "python",
   "pygments_lexer": "ipython3",
   "version": "3.13.1"
  }
 },
 "nbformat": 4,
 "nbformat_minor": 2
}
