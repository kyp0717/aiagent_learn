{
 "cells": [
  {
   "cell_type": "markdown",
   "metadata": {},
   "source": [
    "## Strategy:\n",
    "- Check the sp500 to determine if market is stable.\n",
    "- If stable, enter long trade\n",
    "- If market rally and there is a 5% gain, close the position\n",
    "- Create 3% stop loss\n"
   ]
  },
  {
   "cell_type": "code",
   "execution_count": null,
   "metadata": {},
   "outputs": [],
   "source": [
    "## Get latest minutebar from alpaca using get_latest_bar function\n",
    "import minutebar as bb\n",
    "\n",
    "\n"
   ]
  },
  {
   "cell_type": "code",
   "execution_count": null,
   "metadata": {},
   "outputs": [],
   "source": [
    "## get latest bar and load to table\n",
    "bb.paca_get_latest_bar(feed=\"iex\", symbol=\"AAPL\")\n",
    "\n",
    "## get latest bar and load to table\n",
    "bb.paca_get_latest_bar(feed=\"iex\", symbol=\"SPY\")"
   ]
  },
  {
   "cell_type": "code",
   "execution_count": null,
   "metadata": {},
   "outputs": [],
   "source": [
    "## Retrieve apple bar data from supabase database\n",
    "## Get SPY bar data from supbase database\n",
    "## Use these data to build metrics for the trade\n",
    "\n",
    "# Metric #1: Measure the velocity of Apple volume is increasing over the last 10 bar\n",
    "# Metric #2: Measure if prices are increasing\n",
    "# Metric #2: Measure if SPY is stable or rallying"
   ]
  },
  {
   "cell_type": "code",
   "execution_count": 1,
   "metadata": {},
   "outputs": [],
   "source": [
    "\n",
    "import model as mm\n",
    "\n",
    "a = mm.linear('SPY', 'current')\n"
   ]
  },
  {
   "cell_type": "code",
   "execution_count": 2,
   "metadata": {},
   "outputs": [
    {
     "data": {
      "text/plain": [
       "(-0.01006060606060621, 471.90933333333334)"
      ]
     },
     "execution_count": 2,
     "metadata": {},
     "output_type": "execute_result"
    }
   ],
   "source": [
    "a"
   ]
  },
  {
   "cell_type": "code",
   "execution_count": null,
   "metadata": {},
   "outputs": [],
   "source": [
    "## Enter Trade\n",
    "## If \n",
    "# 1. apple volume velocity is 20% or above (i.e 1.2)\n",
    "# 2. SPY is stable or rallying\n",
    "# 3. apple price is stable or increasing"
   ]
  },
  {
   "cell_type": "code",
   "execution_count": null,
   "metadata": {},
   "outputs": [],
   "source": []
  }
 ],
 "metadata": {
  "kernelspec": {
   "display_name": "aiagent",
   "language": "python",
   "name": "python3"
  },
  "language_info": {
   "codemirror_mode": {
    "name": "ipython",
    "version": 3
   },
   "file_extension": ".py",
   "mimetype": "text/x-python",
   "name": "python",
   "nbconvert_exporter": "python",
   "pygments_lexer": "ipython3",
   "version": "3.13.1"
  }
 },
 "nbformat": 4,
 "nbformat_minor": 2
}
