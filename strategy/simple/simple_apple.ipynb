{
 "cells": [
  {
   "cell_type": "markdown",
   "metadata": {},
   "source": [
    "## Strategy:\n",
    "- Check the sp500 to determine if market is stable.\n",
    "- If stable, enter long trade\n",
    "- If market rally and there is a 5% gain, close the position\n",
    "- Create 3% stop loss\n"
   ]
  },
  {
   "cell_type": "code",
   "execution_count": 1,
   "metadata": {},
   "outputs": [],
   "source": [
    "## Get latest minutebar from alpaca using get_latest_bar function\n",
    "import bar as bb\n",
    "\n",
    "\n"
   ]
  },
  {
   "cell_type": "code",
   "execution_count": null,
   "metadata": {},
   "outputs": [],
   "source": [
    "## get latest bar and load to table\n",
    "get_latest_bar(feed=\"iex\", symbol=\"AAPL\")\n",
    "\n",
    "## get latest bar and load to table\n",
    "get_latest_bar(feed=\"iex\", symbol=\"SPY\")"
   ]
  },
  {
   "cell_type": "code",
   "execution_count": null,
   "metadata": {},
   "outputs": [],
   "source": [
    "## Retrieve apple bar data from supabase database\n",
    "## Get SPY bar data from supbase database\n",
    "## Use these data to build metrics for the trade\n",
    "\n",
    "# Metric #1: Measure the velocity of Apple volume is increasing over the last 10 bar\n",
    "# Metric #2: Measure if prices are increasing\n",
    "# Metric #2: Measure if SPY is stable or rallying"
   ]
  },
  {
   "cell_type": "code",
   "execution_count": 18,
   "metadata": {},
   "outputs": [
    {
     "name": "stdout",
     "output_type": "stream",
     "text": [
      "data=[{'id': 902, 'created_at': '2025-01-21T13:52:29.217115+00:00', 'symbol': 'SPY', 'current': 471.95, 'high': 471.95, 'low': 471.95, 'volume': 245, 'vw': 471.95, 'n': 3, 'timestamp': '2024-01-03T09:26:00+00:00', 'open': 471.95}, {'id': 901, 'created_at': '2025-01-21T13:52:29.170539+00:00', 'symbol': 'SPY', 'current': 471.91, 'high': 471.91, 'low': 471.91, 'volume': 106, 'vw': 471.91, 'n': 3, 'timestamp': '2024-01-03T09:25:00+00:00', 'open': 471.91}, {'id': 900, 'created_at': '2025-01-21T13:52:29.122926+00:00', 'symbol': 'SPY', 'current': 471.89, 'high': 471.89, 'low': 471.85, 'volume': 310, 'vw': 471.864, 'n': 2, 'timestamp': '2024-01-03T09:23:00+00:00', 'open': 471.85}, {'id': 899, 'created_at': '2025-01-21T13:52:29.08+00:00', 'symbol': 'SPY', 'current': 471.86, 'high': 471.93, 'low': 471.86, 'volume': 329, 'vw': 471.883, 'n': 4, 'timestamp': '2024-01-03T09:22:00+00:00', 'open': 471.93}, {'id': 898, 'created_at': '2025-01-21T13:52:29.011865+00:00', 'symbol': 'SPY', 'current': 471.79, 'high': 471.79, 'low': 471.79, 'volume': 509, 'vw': 471.79, 'n': 7, 'timestamp': '2024-01-03T09:19:00+00:00', 'open': 471.79}, {'id': 897, 'created_at': '2025-01-21T13:52:28.943791+00:00', 'symbol': 'SPY', 'current': 471.82, 'high': 471.82, 'low': 471.82, 'volume': 265, 'vw': 471.82, 'n': 4, 'timestamp': '2024-01-03T09:16:00+00:00', 'open': 471.82}, {'id': 896, 'created_at': '2025-01-21T13:52:28.860829+00:00', 'symbol': 'SPY', 'current': 471.76, 'high': 471.77, 'low': 471.76, 'volume': 1187, 'vw': 471.765, 'n': 11, 'timestamp': '2024-01-03T09:15:00+00:00', 'open': 471.77}, {'id': 895, 'created_at': '2025-01-21T13:52:28.814475+00:00', 'symbol': 'SPY', 'current': 471.88, 'high': 471.88, 'low': 471.88, 'volume': 137, 'vw': 471.88, 'n': 4, 'timestamp': '2024-01-03T09:10:00+00:00', 'open': 471.88}, {'id': 894, 'created_at': '2025-01-21T13:52:28.763325+00:00', 'symbol': 'SPY', 'current': 471.77, 'high': 471.79, 'low': 471.77, 'volume': 428, 'vw': 471.775, 'n': 7, 'timestamp': '2024-01-03T09:09:00+00:00', 'open': 471.79}, {'id': 893, 'created_at': '2025-01-21T13:52:28.714472+00:00', 'symbol': 'SPY', 'current': 471.91, 'high': 471.91, 'low': 471.91, 'volume': 234, 'vw': 471.91, 'n': 5, 'timestamp': '2024-01-03T09:07:00+00:00', 'open': 471.91}] count=None\n"
     ]
    }
   ],
   "source": [
    "import requests\n",
    "import os\n",
    "from supabase import create_client, Client\n",
    "from dotenv import load_dotenv\n",
    "\n",
    "# Load environment variables from .env file\n",
    "load_dotenv()\n",
    "\n",
    "supabase_url = os.getenv(\"SUPABASE_URL\")\n",
    "supabase_key = os.getenv(\"SUPABASE_KEY\")\n",
    "supabase: Client = create_client(supabase_url, supabase_key)\n",
    "\n",
    "response = supabase.table(\"bar_history\") \\\n",
    "                   .select(\"*\") \\\n",
    "                   .filter('symbol','eq','SPY') \\\n",
    "                   .order('timestamp', desc=True) \\\n",
    "                   .limit(10) \\\n",
    "                   .execute()\n",
    "print(response)\n"
   ]
  },
  {
   "cell_type": "code",
   "execution_count": null,
   "metadata": {},
   "outputs": [],
   "source": [
    "## Enter Trade\n",
    "## If \n",
    "# 1. apple volume velocity is 20% or above (i.e 1.2)\n",
    "# 2. SPY is stable or rallying\n",
    "# 3. apple price is stable or increasing"
   ]
  },
  {
   "cell_type": "code",
   "execution_count": null,
   "metadata": {},
   "outputs": [],
   "source": []
  }
 ],
 "metadata": {
  "kernelspec": {
   "display_name": "aiagent",
   "language": "python",
   "name": "python3"
  },
  "language_info": {
   "codemirror_mode": {
    "name": "ipython",
    "version": 3
   },
   "file_extension": ".py",
   "mimetype": "text/x-python",
   "name": "python",
   "nbconvert_exporter": "python",
   "pygments_lexer": "ipython3",
   "version": "3.13.1"
  }
 },
 "nbformat": 4,
 "nbformat_minor": 2
}
