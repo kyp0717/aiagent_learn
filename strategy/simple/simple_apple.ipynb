{
 "cells": [
  {
   "cell_type": "markdown",
   "metadata": {},
   "source": [
    "## Strategy:\n",
    "- Check the sp500 to determine if market is stable.\n",
    "- If stable, enter long trade\n",
    "- If market rally and there is a 5% gain, close the position\n",
    "- Create 3% stop loss\n"
   ]
  },
  {
   "cell_type": "code",
   "execution_count": 1,
   "metadata": {},
   "outputs": [
    {
     "name": "stdout",
     "output_type": "stream",
     "text": [
      "{'c': 229.96, 'h': 230.005, 'l': 229.735, 'n': 330, 'o': 229.735, 't': '2025-01-17T20:59:00Z', 'v': 26710, 'vw': 229.89484}\n",
      "{'c': 597.33, 'h': 597.33, 'l': 597.33, 'n': 1, 'o': 597.33, 't': '2025-01-17T21:28:00Z', 'v': 100, 'vw': 597.33}\n"
     ]
    }
   ],
   "source": [
    "## Get latest minutebar from alpaca using get_latest_bar function\n",
    "from bar import get_latest_bar\n",
    "\n",
    "## get latest bar and load to table\n",
    "get_latest_bar(feed=\"iex\", symbol=\"AAPL\")\n",
    "\n",
    "## get latest bar and load to table\n",
    "get_latest_bar(feed=\"iex\", symbol=\"SPY\")\n"
   ]
  },
  {
   "cell_type": "code",
   "execution_count": null,
   "metadata": {},
   "outputs": [],
   "source": [
    "## Retrieve apple bar data from supabase database\n",
    "## Get SPY bar data from supbase database\n",
    "## Use these data to build metrics for the trade\n",
    "\n",
    "# Metric #1: Measure the velocity of Apple volume is increasing over the last 10 bar\n",
    "# Metric #2: Measure if prices are increasing\n",
    "# Metric #2: Measure if SPY is stable or rallying"
   ]
  },
  {
   "cell_type": "code",
   "execution_count": null,
   "metadata": {},
   "outputs": [],
   "source": []
  },
  {
   "cell_type": "code",
   "execution_count": null,
   "metadata": {},
   "outputs": [],
   "source": [
    "## Enter Trade\n",
    "## If \n",
    "# 1. apple volume velocity is 20% or above (i.e 1.2)\n",
    "# 2. SPY is stable or rallying\n",
    "# 3. apple price is stable or increasing"
   ]
  },
  {
   "cell_type": "code",
   "execution_count": null,
   "metadata": {},
   "outputs": [],
   "source": []
  }
 ],
 "metadata": {
  "kernelspec": {
   "display_name": "aiagent",
   "language": "python",
   "name": "python3"
  },
  "language_info": {
   "codemirror_mode": {
    "name": "ipython",
    "version": 3
   },
   "file_extension": ".py",
   "mimetype": "text/x-python",
   "name": "python",
   "nbconvert_exporter": "python",
   "pygments_lexer": "ipython3",
   "version": "3.13.1"
  }
 },
 "nbformat": 4,
 "nbformat_minor": 2
}
