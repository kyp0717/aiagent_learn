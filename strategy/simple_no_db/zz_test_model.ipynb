{
 "cells": [
  {
   "cell_type": "markdown",
   "metadata": {},
   "source": [
    "## Strategy:\n",
    "- Check the sp500 to determine if market is stable.\n",
    "- If stable, enter long trade\n",
    "- If market rally and there is a 5% gain, close the position\n",
    "- Create 3% stop loss\n"
   ]
  },
  {
   "cell_type": "code",
   "execution_count": null,
   "metadata": {},
   "outputs": [],
   "source": [
    "\n",
    "\n"
   ]
  },
  {
   "cell_type": "code",
   "execution_count": null,
   "metadata": {},
   "outputs": [],
   "source": [
    "## get latest bar and load to table\n",
    "bb.paca_get_latest_bar(feed=\"iex\", symbol=\"AAPL\")\n",
    "\n",
    "## get latest bar and load to table\n",
    "bb.paca_get_latest_bar(feed=\"iex\", symbol=\"SPY\")"
   ]
  },
  {
   "cell_type": "code",
   "execution_count": null,
   "metadata": {},
   "outputs": [],
   "source": [
    "## Retrieve apple bar data from supabase database\n",
    "## Get SPY bar data from supbase database\n",
    "## Use these data to build metrics for the trade\n",
    "\n",
    "# Metric #1: Measure the velocity of Apple volume is increasing over the last 10 bar\n",
    "# Metric #2: Measure if prices are increasing\n",
    "# Metric #2: Measure if SPY is stable or rallying"
   ]
  },
  {
   "cell_type": "code",
   "execution_count": null,
   "metadata": {},
   "outputs": [],
   "source": [
    "\n",
    "import model as mm\n",
    "\n",
    "a = mm.linear('SPY', 'current')\n"
   ]
  },
  {
   "cell_type": "code",
   "execution_count": null,
   "metadata": {},
   "outputs": [],
   "source": [
    "a"
   ]
  },
  {
   "cell_type": "code",
   "execution_count": null,
   "metadata": {},
   "outputs": [],
   "source": [
    "## Enter Trade\n",
    "## If \n",
    "# 1. apple volume velocity is 20% or above (i.e 1.2)\n",
    "# 2. SPY is stable or rallying\n",
    "# 3. apple price is stable or increasing"
   ]
  },
  {
   "cell_type": "code",
   "execution_count": 1,
   "metadata": {},
   "outputs": [
    {
     "name": "stderr",
     "output_type": "stream",
     "text": [
      "2025-01-23 14:59:00,365 - INFO - PACA: fetching bar data for AAPL ...\n"
     ]
    },
    {
     "name": "stdout",
     "output_type": "stream",
     "text": [
      "2025-01-23T19%3A44%3A00.365780%2B00%3A00\n"
     ]
    },
    {
     "data": {
      "text/html": [
       "<div>\n",
       "<style scoped>\n",
       "    .dataframe tbody tr th:only-of-type {\n",
       "        vertical-align: middle;\n",
       "    }\n",
       "\n",
       "    .dataframe tbody tr th {\n",
       "        vertical-align: top;\n",
       "    }\n",
       "\n",
       "    .dataframe thead th {\n",
       "        text-align: right;\n",
       "    }\n",
       "</style>\n",
       "<table border=\"1\" class=\"dataframe\">\n",
       "  <thead>\n",
       "    <tr style=\"text-align: right;\">\n",
       "      <th></th>\n",
       "      <th>c</th>\n",
       "      <th>h</th>\n",
       "      <th>l</th>\n",
       "      <th>n</th>\n",
       "      <th>o</th>\n",
       "      <th>t</th>\n",
       "      <th>v</th>\n",
       "      <th>vw</th>\n",
       "    </tr>\n",
       "  </thead>\n",
       "  <tbody>\n",
       "    <tr>\n",
       "      <th>0</th>\n",
       "      <td>222.730</td>\n",
       "      <td>222.735</td>\n",
       "      <td>222.695</td>\n",
       "      <td>11</td>\n",
       "      <td>222.695</td>\n",
       "      <td>2025-01-23T19:45:00Z</td>\n",
       "      <td>1655</td>\n",
       "      <td>222.724395</td>\n",
       "    </tr>\n",
       "    <tr>\n",
       "      <th>1</th>\n",
       "      <td>222.735</td>\n",
       "      <td>222.735</td>\n",
       "      <td>222.680</td>\n",
       "      <td>24</td>\n",
       "      <td>222.720</td>\n",
       "      <td>2025-01-23T19:46:00Z</td>\n",
       "      <td>3532</td>\n",
       "      <td>222.714559</td>\n",
       "    </tr>\n",
       "    <tr>\n",
       "      <th>2</th>\n",
       "      <td>222.685</td>\n",
       "      <td>222.740</td>\n",
       "      <td>222.670</td>\n",
       "      <td>12</td>\n",
       "      <td>222.740</td>\n",
       "      <td>2025-01-23T19:47:00Z</td>\n",
       "      <td>1134</td>\n",
       "      <td>222.697727</td>\n",
       "    </tr>\n",
       "    <tr>\n",
       "      <th>3</th>\n",
       "      <td>222.685</td>\n",
       "      <td>222.700</td>\n",
       "      <td>222.685</td>\n",
       "      <td>12</td>\n",
       "      <td>222.700</td>\n",
       "      <td>2025-01-23T19:48:00Z</td>\n",
       "      <td>375</td>\n",
       "      <td>222.692500</td>\n",
       "    </tr>\n",
       "    <tr>\n",
       "      <th>4</th>\n",
       "      <td>222.690</td>\n",
       "      <td>222.710</td>\n",
       "      <td>222.680</td>\n",
       "      <td>13</td>\n",
       "      <td>222.690</td>\n",
       "      <td>2025-01-23T19:49:00Z</td>\n",
       "      <td>1020</td>\n",
       "      <td>222.689500</td>\n",
       "    </tr>\n",
       "    <tr>\n",
       "      <th>5</th>\n",
       "      <td>222.730</td>\n",
       "      <td>222.760</td>\n",
       "      <td>222.700</td>\n",
       "      <td>22</td>\n",
       "      <td>222.725</td>\n",
       "      <td>2025-01-23T19:50:00Z</td>\n",
       "      <td>1519</td>\n",
       "      <td>222.727997</td>\n",
       "    </tr>\n",
       "    <tr>\n",
       "      <th>6</th>\n",
       "      <td>222.750</td>\n",
       "      <td>222.750</td>\n",
       "      <td>222.690</td>\n",
       "      <td>20</td>\n",
       "      <td>222.710</td>\n",
       "      <td>2025-01-23T19:51:00Z</td>\n",
       "      <td>1055</td>\n",
       "      <td>222.723333</td>\n",
       "    </tr>\n",
       "    <tr>\n",
       "      <th>7</th>\n",
       "      <td>222.760</td>\n",
       "      <td>222.760</td>\n",
       "      <td>222.730</td>\n",
       "      <td>13</td>\n",
       "      <td>222.730</td>\n",
       "      <td>2025-01-23T19:52:00Z</td>\n",
       "      <td>548</td>\n",
       "      <td>222.746667</td>\n",
       "    </tr>\n",
       "    <tr>\n",
       "      <th>8</th>\n",
       "      <td>222.755</td>\n",
       "      <td>222.755</td>\n",
       "      <td>222.755</td>\n",
       "      <td>11</td>\n",
       "      <td>222.755</td>\n",
       "      <td>2025-01-23T19:53:00Z</td>\n",
       "      <td>366</td>\n",
       "      <td>222.755000</td>\n",
       "    </tr>\n",
       "    <tr>\n",
       "      <th>9</th>\n",
       "      <td>222.780</td>\n",
       "      <td>222.780</td>\n",
       "      <td>222.730</td>\n",
       "      <td>10</td>\n",
       "      <td>222.730</td>\n",
       "      <td>2025-01-23T19:54:00Z</td>\n",
       "      <td>2026</td>\n",
       "      <td>222.758000</td>\n",
       "    </tr>\n",
       "  </tbody>\n",
       "</table>\n",
       "</div>"
      ],
      "text/plain": [
       "         c        h        l   n        o                     t     v  \\\n",
       "0  222.730  222.735  222.695  11  222.695  2025-01-23T19:45:00Z  1655   \n",
       "1  222.735  222.735  222.680  24  222.720  2025-01-23T19:46:00Z  3532   \n",
       "2  222.685  222.740  222.670  12  222.740  2025-01-23T19:47:00Z  1134   \n",
       "3  222.685  222.700  222.685  12  222.700  2025-01-23T19:48:00Z   375   \n",
       "4  222.690  222.710  222.680  13  222.690  2025-01-23T19:49:00Z  1020   \n",
       "5  222.730  222.760  222.700  22  222.725  2025-01-23T19:50:00Z  1519   \n",
       "6  222.750  222.750  222.690  20  222.710  2025-01-23T19:51:00Z  1055   \n",
       "7  222.760  222.760  222.730  13  222.730  2025-01-23T19:52:00Z   548   \n",
       "8  222.755  222.755  222.755  11  222.755  2025-01-23T19:53:00Z   366   \n",
       "9  222.780  222.780  222.730  10  222.730  2025-01-23T19:54:00Z  2026   \n",
       "\n",
       "           vw  \n",
       "0  222.724395  \n",
       "1  222.714559  \n",
       "2  222.697727  \n",
       "3  222.692500  \n",
       "4  222.689500  \n",
       "5  222.727997  \n",
       "6  222.723333  \n",
       "7  222.746667  \n",
       "8  222.755000  \n",
       "9  222.758000  "
      ]
     },
     "execution_count": 1,
     "metadata": {},
     "output_type": "execute_result"
    }
   ],
   "source": [
    "import minutebarxx as mm\n",
    "mm.paca_get_bars(\"iex\", \"AAPL\")"
   ]
  }
 ],
 "metadata": {
  "kernelspec": {
   "display_name": "aiagent",
   "language": "python",
   "name": "python3"
  },
  "language_info": {
   "codemirror_mode": {
    "name": "ipython",
    "version": 3
   },
   "file_extension": ".py",
   "mimetype": "text/x-python",
   "name": "python",
   "nbconvert_exporter": "python",
   "pygments_lexer": "ipython3",
   "version": "3.13.1"
  }
 },
 "nbformat": 4,
 "nbformat_minor": 2
}
