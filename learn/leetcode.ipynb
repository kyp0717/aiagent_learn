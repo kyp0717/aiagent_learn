{
 "cells": [
  {
   "cell_type": "code",
   "execution_count": null,
   "metadata": {},
   "outputs": [],
   "source": [
    "from typing import List\n",
    "\n",
    "class Solution:\n",
    "    def twoSum(self, nums: List[int], target: int) -> List[int]:\n",
    "        for j in nums:\n",
    "            for k in nums:\n",
    "                if (k + j) == target:\n",
    "                    return [j, k]\n"
   ]
  },
  {
   "cell_type": "code",
   "execution_count": null,
   "metadata": {},
   "outputs": [],
   "source": [
    "nums = [2, 7, 11, 15]\n",
    "\n",
    "for i, num in enumerate(nums):\n",
    "    # Check if complement (target - current number) exists in hash table\n",
    "    if target - num in ht:\n",
    "        # If found, return indices of both numbers\n",
    "        return [ht[target - num], i]"
   ]
  },
  {
   "cell_type": "code",
   "execution_count": null,
   "metadata": {},
   "outputs": [],
   "source": [
    "nums = [2, 7, 11, 15]\n",
    "\n",
    "for i, num in enumerate(nums):\n",
    "    print(i, num)"
   ]
  },
  {
   "cell_type": "code",
   "execution_count": 18,
   "metadata": {},
   "outputs": [],
   "source": [
    "from typing import List\n",
    "class Solution:\n",
    "    def twoSum(self, nums: List[int], target: int) -> List[int]:\n",
    "        # Hash table to store number->index mapping\n",
    "        ht = {}\n",
    "        \n",
    "        # Iterate through the array\n",
    "        for i, num in enumerate(nums):\n",
    "\n",
    "            # Check if complement (target - current number) exists in hash table\n",
    "            if target - num in ht:\n",
    "                # If found, return indices of both numbers\n",
    "                return [ht[target - num], i]\n",
    "                \n",
    "            # Store current number and its index in hash table\n",
    "            ht[num] = i\n",
    "            \n",
    "            \n",
    "        # Return empty list if no solution found\n",
    "        return []"
   ]
  },
  {
   "cell_type": "code",
   "execution_count": 8,
   "metadata": {},
   "outputs": [],
   "source": [
    "n = Solution()"
   ]
  },
  {
   "cell_type": "code",
   "execution_count": 19,
   "metadata": {},
   "outputs": [
    {
     "data": {
      "text/plain": [
       "[0, 1]"
      ]
     },
     "execution_count": 19,
     "metadata": {},
     "output_type": "execute_result"
    }
   ],
   "source": [
    "n.twoSum([2, 7, 11, 15], 9)"
   ]
  }
 ],
 "metadata": {
  "kernelspec": {
   "display_name": "aiagent",
   "language": "python",
   "name": "python3"
  },
  "language_info": {
   "codemirror_mode": {
    "name": "ipython",
    "version": 3
   },
   "file_extension": ".py",
   "mimetype": "text/x-python",
   "name": "python",
   "nbconvert_exporter": "python",
   "pygments_lexer": "ipython3",
   "version": "3.13.1"
  }
 },
 "nbformat": 4,
 "nbformat_minor": 2
}
