{
 "cells": [
  {
   "cell_type": "code",
   "execution_count": null,
   "metadata": {},
   "outputs": [],
   "source": [
    "from backtesting import Backtest, Strategy\n",
    "from backtesting.lib import crossover\n",
    "import yfinance as yf\n",
    "import pandas as pd\n",
    "import pandas_ta as ta\n",
    "from backtesting.test import GOOG"
   ]
  },
  {
   "cell_type": "code",
   "execution_count": null,
   "metadata": {},
   "outputs": [],
   "source": [
    "type(GOOG)\n",
    "GOOG"
   ]
  },
  {
   "cell_type": "code",
   "execution_count": 6,
   "metadata": {},
   "outputs": [],
   "source": [
    "def indicator(data):\n",
    "    bbands = ta.bbands(close = data.Close.s, std=1)\n",
    "    print(bbands)"
   ]
  },
  {
   "cell_type": "code",
   "execution_count": 12,
   "metadata": {},
   "outputs": [],
   "source": [
    "class BBStrategy(Strategy):\n",
    "    def init(self):\n",
    "        self.bbands = self.I(indicator, self.data)\n",
    "\n",
    "    def next(self):\n",
    "        pass"
   ]
  },
  {
   "cell_type": "code",
   "execution_count": null,
   "metadata": {},
   "outputs": [],
   "source": [
    "bt = Backtest(GOOG, BBStrategy, cash=10_000)\n",
    "stats = bt.run()"
   ]
  },
  {
   "cell_type": "code",
   "execution_count": 14,
   "metadata": {},
   "outputs": [
    {
     "name": "stdout",
     "output_type": "stream",
     "text": [
      "Help on function bbands in module pandas_ta.volatility.bbands:\n",
      "\n",
      "bbands(\n",
      "    close,\n",
      "    length=None,\n",
      "    std=None,\n",
      "    ddof=0,\n",
      "    mamode=None,\n",
      "    talib=None,\n",
      "    offset=None,\n",
      "    **kwargs\n",
      ")\n",
      "    Bollinger Bands (BBANDS)\n",
      "\n",
      "    A popular volatility indicator by John Bollinger.\n",
      "\n",
      "    Sources:\n",
      "        https://www.tradingview.com/wiki/Bollinger_Bands_(BB)\n",
      "\n",
      "    Calculation:\n",
      "        Default Inputs:\n",
      "            length=5, std=2, mamode=\"sma\", ddof=0\n",
      "        EMA = Exponential Moving Average\n",
      "        SMA = Simple Moving Average\n",
      "        STDEV = Standard Deviation\n",
      "        stdev = STDEV(close, length, ddof)\n",
      "        if \"ema\":\n",
      "            MID = EMA(close, length)\n",
      "        else:\n",
      "            MID = SMA(close, length)\n",
      "\n",
      "        LOWER = MID - std * stdev\n",
      "        UPPER = MID + std * stdev\n",
      "\n",
      "        BANDWIDTH = 100 * (UPPER - LOWER) / MID\n",
      "        PERCENT = (close - LOWER) / (UPPER - LOWER)\n",
      "\n",
      "    Args:\n",
      "        close (pd.Series): Series of 'close's\n",
      "        length (int): The short period. Default: 5\n",
      "        std (int): The long period. Default: 2\n",
      "        ddof (int): Degrees of Freedom to use. Default: 0\n",
      "        mamode (str): See ```help(ta.ma)```. Default: 'sma'\n",
      "        talib (bool): If TA Lib is installed and talib is True, Returns the TA Lib\n",
      "            version. Default: True\n",
      "        offset (int): How many periods to offset the result. Default: 0\n",
      "\n",
      "    Kwargs:\n",
      "        fillna (value, optional): pd.DataFrame.fillna(value)\n",
      "        fill_method (value, optional): Type of fill method\n",
      "\n",
      "    Returns:\n",
      "        pd.DataFrame: lower, mid, upper, bandwidth, and percent columns.\n",
      "\n"
     ]
    }
   ],
   "source": [
    "help(ta.bbands)"
   ]
  }
 ],
 "metadata": {
  "kernelspec": {
   "display_name": "aiagent",
   "language": "python",
   "name": "python3"
  },
  "language_info": {
   "codemirror_mode": {
    "name": "ipython",
    "version": 3
   },
   "file_extension": ".py",
   "mimetype": "text/x-python",
   "name": "python",
   "nbconvert_exporter": "python",
   "pygments_lexer": "ipython3",
   "version": "3.13.1"
  }
 },
 "nbformat": 4,
 "nbformat_minor": 2
}
