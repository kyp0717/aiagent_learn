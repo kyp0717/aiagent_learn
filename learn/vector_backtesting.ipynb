{
 "cells": [
  {
   "cell_type": "code",
   "execution_count": 1,
   "metadata": {},
   "outputs": [],
   "source": [
    "import pandas as pd\n",
    "import numpy as np\n",
    "# Set the option to display all columns\n",
    "pd.set_option('display.max_columns', None)\n",
    "\n",
    "url = 'https://raw.githubusercontent.com/diogomatoschaves/stratestic/master/data/bitcoin-100rows.csv'\n",
    "\n",
    "df = pd.read_csv(url, index_col='date', parse_dates=True)"
   ]
  },
  {
   "cell_type": "code",
   "execution_count": 24,
   "metadata": {},
   "outputs": [],
   "source": [
    "# Set the option to display all columns\n",
    "pd.set_option('display.max_columns', None)\n",
    "pd.set_option('display.max_rows', None)"
   ]
  },
  {
   "cell_type": "code",
   "execution_count": 3,
   "metadata": {},
   "outputs": [],
   "source": [
    "df[\"returns\"] = np.log(df[\"close\"] / df[\"close\"].shift(1))\n",
    "df[\"moving_average_20\"] = df[\"close\"].rolling(20).mean()\n",
    "\n",
    "df[\"signal\"] = np.where(df[\"close\"] > df[\"moving_average_20\"], 1, 0)\n",
    "df[\"signal\"] = np.where(df[\"close\"] < df[\"moving_average_20\"], -1, df[\"signal\"])\n",
    "\n",
    "df.dropna(inplace=True)"
   ]
  },
  {
   "cell_type": "code",
   "execution_count": 9,
   "metadata": {},
   "outputs": [],
   "source": [
    "df[\"strategy_returns\"] = df[\"signal\"].shift(1) * df[\"returns\"]\n",
    "df[\"strategy_returns\"] = df[\"strategy_returns\"].fillna(0)\n"
   ]
  },
  {
   "cell_type": "code",
   "execution_count": 20,
   "metadata": {},
   "outputs": [],
   "source": [
    "trading_cost = 0.1 / 100  # 0.1 %\n",
    "\n",
    "df[\"trades\"] = df[\"signal\"].diff().fillna(0).abs()\n",
    "df.loc[df.index[0], \"trades\"] = np.abs(df.loc[df.index[0], \"signal\"] - 0)  # value for the first row of the trades column\n",
    "df.loc[df.index[-1], \"trades\"] = np.abs(0 - df.loc[df.index[-1], \"signal\"]) # value for the last row of the trades column\n",
    "\n",
    "df[\"strategy_returns_tc\"] = df[\"strategy_returns\"] - df[\"trades\"] * trading_cost\n",
    "\n",
    "df[\"accum_strategy_returns_tc\"] = df[\"strategy_returns_tc\"].cumsum().apply(np.exp)"
   ]
  },
  {
   "cell_type": "code",
   "execution_count": null,
   "metadata": {},
   "outputs": [],
   "source": [
    "df"
   ]
  },
  {
   "cell_type": "code",
   "execution_count": 18,
   "metadata": {},
   "outputs": [],
   "source": [
    "r = df[:10]"
   ]
  },
  {
   "cell_type": "code",
   "execution_count": null,
   "metadata": {},
   "outputs": [],
   "source": [
    "r"
   ]
  },
  {
   "cell_type": "code",
   "execution_count": null,
   "metadata": {},
   "outputs": [],
   "source": [
    "r['returns'].cumsum()"
   ]
  },
  {
   "cell_type": "code",
   "execution_count": null,
   "metadata": {},
   "outputs": [],
   "source": [
    "np.exp(r['returns'].sum())"
   ]
  },
  {
   "cell_type": "code",
   "execution_count": null,
   "metadata": {},
   "outputs": [],
   "source": []
  }
 ],
 "metadata": {
  "kernelspec": {
   "display_name": "aiagent",
   "language": "python",
   "name": "python3"
  },
  "language_info": {
   "codemirror_mode": {
    "name": "ipython",
    "version": 3
   },
   "file_extension": ".py",
   "mimetype": "text/x-python",
   "name": "python",
   "nbconvert_exporter": "python",
   "pygments_lexer": "ipython3",
   "version": "3.13.1"
  }
 },
 "nbformat": 4,
 "nbformat_minor": 2
}
