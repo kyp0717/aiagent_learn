{
 "cells": [
  {
   "cell_type": "code",
   "execution_count": null,
   "metadata": {},
   "outputs": [],
   "source": [
    "from backtesting import Backtest, Strategy\n",
    "from backtesting.lib import crossover\n",
    "import yfinance as yf\n",
    "import pandas as pd"
   ]
  },
  {
   "cell_type": "code",
   "execution_count": null,
   "metadata": {},
   "outputs": [],
   "source": [
    "def download_minute_data(ticker, start_date, end_date):\n",
    "    # Fetch minute-bar data for the given ticker\n",
    "    df = yf.download(ticker, interval='1m', start=start_date, end=end_date, progress=False)\n",
    "    df.dropna(inplace=True)\n",
    "    df.rename(columns={\"Datetime\": \"Timestamp\"}, inplace=True)\n",
    "    return df\n",
    "\n",
    "# Example: Fetching data\n",
    "start_date = \"2025-01-24\"\n",
    "end_date = \"2025-01-24\"\n",
    "ticker = \"AAPL\"\n",
    "\n",
    "minute_data = download_minute_data(ticker, start_date, end_date)\n",
    "print(minute_data.head())\n"
   ]
  },
  {
   "cell_type": "code",
   "execution_count": null,
   "metadata": {},
   "outputs": [],
   "source": [
    "class SMACrossover(Strategy):\n",
    "    short_window = 10  # Short moving average period\n",
    "    long_window = 30   # Long moving average period\n",
    "\n",
    "    def init(self):\n",
    "        # Calculate moving averages\n",
    "        self.sma_short = self.I(pd.Series.rolling, self.data.Close, self.short_window).mean()\n",
    "        self.sma_long = self.I(pd.Series.rolling, self.data.Close, self.long_window).mean()\n",
    "\n",
    "    def next(self):\n",
    "        # If short SMA crosses above long SMA, buy\n",
    "        if crossover(self.sma_short, self.sma_long):\n",
    "            self.buy()\n",
    "\n",
    "        # If short SMA crosses below long SMA, sell\n",
    "        elif crossover(self.sma_long, self.sma_short):\n",
    "            self.sell()"
   ]
  },
  {
   "cell_type": "code",
   "execution_count": null,
   "metadata": {},
   "outputs": [],
   "source": [
    "minute_data = minute_data[['Open', 'High', 'Low', 'Close', 'Volume']]\n",
    "minute_data.reset_index(inplace=True)\n"
   ]
  },
  {
   "cell_type": "code",
   "execution_count": null,
   "metadata": {},
   "outputs": [],
   "source": [
    "# Create the Backtest instance\n",
    "bt = Backtest(minute_data, SMACrossover, cash=10_000, commission=0.002, trade_on_close=True)\n",
    "\n",
    "# Run the backtest\n",
    "results = bt.run()\n",
    "print(results)\n",
    "\n",
    "# Plot the results\n",
    "bt.plot()\n"
   ]
  },
  {
   "cell_type": "code",
   "execution_count": null,
   "metadata": {},
   "outputs": [],
   "source": [
    "# Create a new dataframe with a column of integers\n",
    "df = pd.DataFrame({'col1': range(1, 11)})\n",
    "print(df.col1)"
   ]
  },
  {
   "cell_type": "code",
   "execution_count": 16,
   "metadata": {},
   "outputs": [
    {
     "name": "stdout",
     "output_type": "stream",
     "text": [
      "Index: 0, Value: 1\n",
      "<class 'pandas.core.series.Series'>\n",
      "1\n",
      "Index: 1, Value: 2\n",
      "<class 'pandas.core.series.Series'>\n",
      "2\n",
      "Index: 2, Value: 3\n",
      "<class 'pandas.core.series.Series'>\n",
      "3\n",
      "Index: 3, Value: 4\n",
      "<class 'pandas.core.series.Series'>\n",
      "4\n",
      "Index: 4, Value: 5\n",
      "<class 'pandas.core.series.Series'>\n",
      "5\n",
      "Index: 5, Value: 6\n",
      "<class 'pandas.core.series.Series'>\n",
      "6\n",
      "Index: 6, Value: 7\n",
      "<class 'pandas.core.series.Series'>\n",
      "7\n",
      "Index: 7, Value: 8\n",
      "<class 'pandas.core.series.Series'>\n",
      "8\n",
      "Index: 8, Value: 9\n",
      "<class 'pandas.core.series.Series'>\n",
      "9\n",
      "Index: 9, Value: 10\n",
      "<class 'pandas.core.series.Series'>\n",
      "10\n"
     ]
    },
    {
     "name": "stderr",
     "output_type": "stream",
     "text": [
      "/tmp/ipykernel_223462/2729784812.py:4: FutureWarning: Series.__getitem__ treating keys as positions is deprecated. In a future version, integer keys will always be treated as labels (consistent with DataFrame behavior). To access a value by position, use `ser.iloc[pos]`\n",
      "  print(row[-1])\n"
     ]
    }
   ],
   "source": [
    "for index, row in df.iterrows():\n",
    "    print(f\"Index: {index}, Value: {row['col1']}\")\n",
    "    print(type(row))\n",
    "    print(row[-1])"
   ]
  }
 ],
 "metadata": {
  "kernelspec": {
   "display_name": "aiagent",
   "language": "python",
   "name": "python3"
  },
  "language_info": {
   "codemirror_mode": {
    "name": "ipython",
    "version": 3
   },
   "file_extension": ".py",
   "mimetype": "text/x-python",
   "name": "python",
   "nbconvert_exporter": "python",
   "pygments_lexer": "ipython3",
   "version": "3.13.1"
  }
 },
 "nbformat": 4,
 "nbformat_minor": 2
}
