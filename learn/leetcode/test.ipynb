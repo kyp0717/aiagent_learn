{
 "cells": [
  {
   "cell_type": "code",
   "execution_count": null,
   "metadata": {},
   "outputs": [],
   "source": [
    "a = \"https://docs.google.com/document/u/0/d/e/2PACX-1vRMx5YQlZNa3ra8dYYxmv-QIQ3YJe8tbI3kqcuC7lQiZm-CSEznKfN_HYNSpoXcZIV3Y_O3YoUB1ecq/pub\""
   ]
  },
  {
   "cell_type": "code",
   "execution_count": null,
   "metadata": {},
   "outputs": [],
   "source": [
    "import pandas as pd\n",
    "\n",
    "def read_url(url: str) -> pd.DataFrame:\n",
    "\n",
    "    ls = pd.read_html(url, encoding='utf-8')\n",
    "    df = ls[0]\n",
    "    df.columns= ['x-coordinate','Character','y-coordinate']\n",
    "    df = df.iloc[1:]\n",
    "    df['x_num'] = pd.to_numeric(df['x-coordinate'])\n",
    "    df['y_num'] = pd.to_numeric(df['y-coordinate'])\n",
    "    df = df.sort_values(by=['y_num','x_num'], ascending=[False,True])\n",
    "    return df\n",
    "\n",
    "def make_list(y: int, df: pd.DataFrame) -> list:\n",
    "    lmax = max(df['x_num'])\n",
    "    filtered_df = df[df['y_num'] == y]\n",
    "    xcoords = set(filtered_df['x_num'])\n",
    "    l = []\n",
    "    for x in range(lmax):\n",
    "        if x in xcoords:\n",
    "            df_row = df[(df['x_num'] == x) & (df['y_num'] == y)]\n",
    "            row = df_row.iloc[0]\n",
    "            # print(row['Character'])\n",
    "            l.append(row['Character'])\n",
    "        else: l.append(' ')\n",
    "    return l\n",
    "\n",
    "def make_lists(df: pd.DataFrame) -> list:\n",
    "    ll = []\n",
    "    ycoords = set(df['y_num'])\n",
    "    for y in ycoords:\n",
    "        l = make_list(y,df)\n",
    "        ll.append(l)\n",
    "    ll.reverse()\n",
    "    return ll\n",
    "            \n",
    "def decode(url: str):\n",
    "    df = read_url(url)\n",
    "    ll = make_lists(df)\n",
    "    for i in ll:\n",
    "       print(\"\".join(i))\n"
   ]
  },
  {
   "cell_type": "code",
   "execution_count": 223,
   "metadata": {},
   "outputs": [],
   "source": [
    "t ='https://docs.google.com/document/d/e/2PACX-1vQGUck9HIFCyezsrBSnmENk5ieJuYwpt7YHYEzeNJkIb9OSDdx-ov2nRNReKQyey-cwJOoEKUhLmN9z/pub'"
   ]
  },
  {
   "cell_type": "code",
   "execution_count": 224,
   "metadata": {},
   "outputs": [
    {
     "name": "stderr",
     "output_type": "stream",
     "text": [
      "/tmp/ipykernel_28506/3788220088.py:9: SettingWithCopyWarning: \n",
      "A value is trying to be set on a copy of a slice from a DataFrame.\n",
      "Try using .loc[row_indexer,col_indexer] = value instead\n",
      "\n",
      "See the caveats in the documentation: https://pandas.pydata.org/pandas-docs/stable/user_guide/indexing.html#returning-a-view-versus-a-copy\n",
      "  df['x_num'] = pd.to_numeric(df['x-coordinate'])\n",
      "/tmp/ipykernel_28506/3788220088.py:10: SettingWithCopyWarning: \n",
      "A value is trying to be set on a copy of a slice from a DataFrame.\n",
      "Try using .loc[row_indexer,col_indexer] = value instead\n",
      "\n",
      "See the caveats in the documentation: https://pandas.pydata.org/pandas-docs/stable/user_guide/indexing.html#returning-a-view-versus-a-copy\n",
      "  df['y_num'] = pd.to_numeric(df['y-coordinate'])\n"
     ]
    }
   ],
   "source": [
    "b = read_url(t)"
   ]
  },
  {
   "cell_type": "code",
   "execution_count": 222,
   "metadata": {},
   "outputs": [
    {
     "data": {
      "text/plain": [
       "['█',\n",
       " '█',\n",
       " '█',\n",
       " '█',\n",
       " '█',\n",
       " '█',\n",
       " '█',\n",
       " '█',\n",
       " '░',\n",
       " ' ',\n",
       " ' ',\n",
       " ' ',\n",
       " ' ',\n",
       " ' ',\n",
       " '█',\n",
       " '█',\n",
       " '█',\n",
       " '█',\n",
       " '█',\n",
       " '█',\n",
       " '█',\n",
       " '█',\n",
       " '░',\n",
       " ' ',\n",
       " ' ',\n",
       " ' ',\n",
       " '█',\n",
       " '█',\n",
       " '█',\n",
       " '█',\n",
       " '█',\n",
       " '█',\n",
       " '█',\n",
       " '█',\n",
       " '█',\n",
       " '█',\n",
       " '░',\n",
       " ' ',\n",
       " ' ',\n",
       " ' ',\n",
       " ' ',\n",
       " '█',\n",
       " '█',\n",
       " '█',\n",
       " '█',\n",
       " '█',\n",
       " '█',\n",
       " '█',\n",
       " '░',\n",
       " ' ',\n",
       " ' ',\n",
       " ' ',\n",
       " ' ',\n",
       " ' ',\n",
       " '█',\n",
       " '█',\n",
       " '░',\n",
       " ' ',\n",
       " ' ',\n",
       " ' ',\n",
       " ' ',\n",
       " ' ',\n",
       " '█',\n",
       " '█',\n",
       " '░',\n",
       " ' ',\n",
       " ' ',\n",
       " ' ',\n",
       " ' ',\n",
       " ' ',\n",
       " '█',\n",
       " '█',\n",
       " '█',\n",
       " '░',\n",
       " ' ',\n",
       " ' ',\n",
       " ' ',\n",
       " ' ',\n",
       " '█',\n",
       " '█',\n",
       " '█',\n",
       " '░',\n",
       " ' ',\n",
       " '█',\n",
       " '█',\n",
       " '░',\n",
       " ' ',\n",
       " ' ',\n",
       " ' ',\n",
       " ' ',\n",
       " ' ',\n",
       " '█',\n",
       " '█']"
      ]
     },
     "execution_count": 222,
     "metadata": {},
     "output_type": "execute_result"
    }
   ],
   "source": [
    "make_list(0,b)"
   ]
  },
  {
   "cell_type": "code",
   "execution_count": null,
   "metadata": {},
   "outputs": [],
   "source": [
    "ll = make_lists(b)"
   ]
  },
  {
   "cell_type": "code",
   "execution_count": null,
   "metadata": {},
   "outputs": [],
   "source": [
    "a0 = ''.join(ll[0])\n",
    "a1 = ''.join(ll[1])\n",
    "a2 = ''.join(ll[2])\n",
    "a3 = ''.join(ll[3])\n",
    "a4 = ''.join(ll[4])\n",
    "a5 = ''.join(ll[5])\n",
    "a6 = ''.join(ll[6])"
   ]
  },
  {
   "cell_type": "code",
   "execution_count": null,
   "metadata": {},
   "outputs": [],
   "source": [
    "print(a6)\n",
    "print(a5)\n",
    "print(a4)\n",
    "print(a3)\n",
    "print(a2)\n",
    "print(a1)\n",
    "print(a0)"
   ]
  },
  {
   "cell_type": "code",
   "execution_count": 225,
   "metadata": {},
   "outputs": [
    {
     "name": "stdout",
     "output_type": "stream",
     "text": [
      "████████░     ████████░   ██████████░    ███████░  ██░           ███░ ███░    ███░ ██░     ██\n",
      "██░     ██░ ███░     ███░ ██░          ███░    ██░ ███░   ███░   ██░    ██░  ██░   ██░     ██\n",
      "██░     ██░ ██░       ██░ ██░         ███░          ██░  █████░ ███░     ██░██░    ██░     ██\n",
      "████████░   ██░       ██░ ████████░   ██░           ███░ ██░██░ ██░       ███░     ██████████\n",
      "██░     ██░ ██░       ██░ ██░         ███░           ██░██░ ██░██░       ██░██░    ██░     ██\n",
      "██░     ██░ ███░     ███░ ██░          ███░    ██░   ████░   ████░      ██░  ██░   ██░     ██\n",
      "████████░     ████████░   ██████████░    ███████░     ██░     ██░     ███░    ███░ ██░     ██\n"
     ]
    },
    {
     "name": "stderr",
     "output_type": "stream",
     "text": [
      "/tmp/ipykernel_28506/3788220088.py:9: SettingWithCopyWarning: \n",
      "A value is trying to be set on a copy of a slice from a DataFrame.\n",
      "Try using .loc[row_indexer,col_indexer] = value instead\n",
      "\n",
      "See the caveats in the documentation: https://pandas.pydata.org/pandas-docs/stable/user_guide/indexing.html#returning-a-view-versus-a-copy\n",
      "  df['x_num'] = pd.to_numeric(df['x-coordinate'])\n",
      "/tmp/ipykernel_28506/3788220088.py:10: SettingWithCopyWarning: \n",
      "A value is trying to be set on a copy of a slice from a DataFrame.\n",
      "Try using .loc[row_indexer,col_indexer] = value instead\n",
      "\n",
      "See the caveats in the documentation: https://pandas.pydata.org/pandas-docs/stable/user_guide/indexing.html#returning-a-view-versus-a-copy\n",
      "  df['y_num'] = pd.to_numeric(df['y-coordinate'])\n"
     ]
    }
   ],
   "source": [
    "decode(t)"
   ]
  }
 ],
 "metadata": {
  "kernelspec": {
   "display_name": "aiagent",
   "language": "python",
   "name": "python3"
  },
  "language_info": {
   "codemirror_mode": {
    "name": "ipython",
    "version": 3
   },
   "file_extension": ".py",
   "mimetype": "text/x-python",
   "name": "python",
   "nbconvert_exporter": "python",
   "pygments_lexer": "ipython3",
   "version": "3.13.2"
  }
 },
 "nbformat": 4,
 "nbformat_minor": 2
}
