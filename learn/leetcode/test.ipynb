{
 "cells": [
  {
   "cell_type": "code",
   "execution_count": 74,
   "metadata": {},
   "outputs": [],
   "source": [
    "a = \"https://docs.google.com/document/u/0/d/e/2PACX-1vRMx5YQlZNa3ra8dYYxmv-QIQ3YJe8tbI3kqcuC7lQiZm-CSEznKfN_HYNSpoXcZIV3Y_O3YoUB1ecq/pub\""
   ]
  },
  {
   "cell_type": "code",
   "execution_count": 144,
   "metadata": {},
   "outputs": [],
   "source": [
    "import pandas as pd\n",
    "def read_url(url: str) -> pd.DataFrame:\n",
    "\n",
    "    ls = pd.read_html(url, encoding='utf-8')\n",
    "    df = ls[0]\n",
    "    df.columns= ['x-coordinate','Character','y-coordinate']\n",
    "    df = df.iloc[1:]\n",
    "    df['x_num'] = pd.to_numeric(df['x-coordinate'])\n",
    "    df['y_num'] = pd.to_numeric(df['y-coordinate'])\n",
    "    df = df.sort_values(by='y_num', ascending=False)\n",
    "    return df\n",
    "\n",
    "def make_list(y: int, df: pd.DataFrame) -> list:\n",
    "    l = []\n",
    "    for i, row in df.iterrows():\n",
    "          if row['y_num'] == y:\n",
    "              l.append(row['Character'])\n",
    "    return l\n",
    "\n",
    "def make_lists(df: pd.DataFrame) -> list:\n",
    "    ll = []\n",
    "    ycoords = set(df['y_num'])\n",
    "    for y in ycoords:\n",
    "        l = make_list(y,df)\n",
    "        ll.append(l)\n",
    "    ll.reverse()\n",
    "    return ll\n",
    "            \n",
    "def decode(url: str):\n",
    "    df = read_url(url)\n",
    "    ll = make_lists(df)\n",
    "    for i in ll:\n",
    "       print(\"\".join(i))\n"
   ]
  },
  {
   "cell_type": "code",
   "execution_count": 127,
   "metadata": {},
   "outputs": [],
   "source": [
    "b = read_url(a)"
   ]
  },
  {
   "cell_type": "code",
   "execution_count": 115,
   "metadata": {},
   "outputs": [
    {
     "data": {
      "text/plain": [
       "pandas.core.frame.DataFrame"
      ]
     },
     "execution_count": 115,
     "metadata": {},
     "output_type": "execute_result"
    }
   ],
   "source": [
    "type(b)"
   ]
  },
  {
   "cell_type": "code",
   "execution_count": 119,
   "metadata": {},
   "outputs": [
    {
     "name": "stdout",
     "output_type": "stream",
     "text": [
      "['█', '▀', '▀', '▀']\n"
     ]
    }
   ],
   "source": [
    "d = make_list(2,b)\n",
    "print(d)"
   ]
  },
  {
   "cell_type": "code",
   "execution_count": 145,
   "metadata": {},
   "outputs": [
    {
     "name": "stdout",
     "output_type": "stream",
     "text": [
      "█▀▀▀\n",
      "█▀▀\n",
      "█\n"
     ]
    },
    {
     "name": "stderr",
     "output_type": "stream",
     "text": [
      "/tmp/ipykernel_28506/2035651442.py:8: SettingWithCopyWarning: \n",
      "A value is trying to be set on a copy of a slice from a DataFrame.\n",
      "Try using .loc[row_indexer,col_indexer] = value instead\n",
      "\n",
      "See the caveats in the documentation: https://pandas.pydata.org/pandas-docs/stable/user_guide/indexing.html#returning-a-view-versus-a-copy\n",
      "  df['x_num'] = pd.to_numeric(df['x-coordinate'])\n",
      "/tmp/ipykernel_28506/2035651442.py:9: SettingWithCopyWarning: \n",
      "A value is trying to be set on a copy of a slice from a DataFrame.\n",
      "Try using .loc[row_indexer,col_indexer] = value instead\n",
      "\n",
      "See the caveats in the documentation: https://pandas.pydata.org/pandas-docs/stable/user_guide/indexing.html#returning-a-view-versus-a-copy\n",
      "  df['y_num'] = pd.to_numeric(df['y-coordinate'])\n"
     ]
    }
   ],
   "source": [
    "decode(a)"
   ]
  },
  {
   "cell_type": "code",
   "execution_count": 102,
   "metadata": {},
   "outputs": [
    {
     "name": "stdout",
     "output_type": "stream",
     "text": [
      "[['█'], ['█', '▀', '▀'], ['█', '▀', '▀', '▀']]\n"
     ]
    }
   ],
   "source": [
    "print(f)"
   ]
  },
  {
   "cell_type": "code",
   "execution_count": 66,
   "metadata": {},
   "outputs": [
    {
     "data": {
      "text/plain": [
       "'0'"
      ]
     },
     "execution_count": 66,
     "metadata": {},
     "output_type": "execute_result"
    }
   ],
   "source": [
    "c[1]"
   ]
  },
  {
   "cell_type": "code",
   "execution_count": null,
   "metadata": {},
   "outputs": [],
   "source": []
  }
 ],
 "metadata": {
  "kernelspec": {
   "display_name": "aiagent",
   "language": "python",
   "name": "python3"
  },
  "language_info": {
   "codemirror_mode": {
    "name": "ipython",
    "version": 3
   },
   "file_extension": ".py",
   "mimetype": "text/x-python",
   "name": "python",
   "nbconvert_exporter": "python",
   "pygments_lexer": "ipython3",
   "version": "3.13.2"
  }
 },
 "nbformat": 4,
 "nbformat_minor": 2
}
